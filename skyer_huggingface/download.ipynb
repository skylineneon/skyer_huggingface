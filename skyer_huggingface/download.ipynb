{
 "cells": [
  {
   "cell_type": "code",
   "execution_count": 1,
   "metadata": {},
   "outputs": [
    {
     "name": "stderr",
     "output_type": "stream",
     "text": [
      "/root/miniconda3/envs/py310/lib/python3.10/site-packages/tqdm/auto.py:21: TqdmWarning: IProgress not found. Please update jupyter and ipywidgets. See https://ipywidgets.readthedocs.io/en/stable/user_install.html\n",
      "  from .autonotebook import tqdm as notebook_tqdm\n",
      "Downloading [config.json]: 100%|██████████| 659/659 [00:00<00:00, 2.03kB/s]\n",
      "Downloading [configuration.json]: 100%|██████████| 2.00/2.00 [00:00<00:00, 5.06B/s]\n",
      "Downloading [generation_config.json]: 100%|██████████| 242/242 [00:00<00:00, 734B/s]\n",
      "Downloading [LICENSE]: 100%|██████████| 11.1k/11.1k [00:00<00:00, 36.4kB/s]\n",
      "Downloading [merges.txt]: 100%|██████████| 1.59M/1.59M [00:00<00:00, 2.47MB/s]\n",
      "Downloading [model.safetensors]: 100%|██████████| 942M/942M [03:08<00:00, 5.24MB/s] \n",
      "Downloading [README.md]: 100%|██████████| 4.77k/4.77k [00:00<00:00, 7.92kB/s]\n",
      "Downloading [tokenizer.json]: 100%|██████████| 6.71M/6.71M [00:02<00:00, 3.43MB/s]\n",
      "Downloading [tokenizer_config.json]: 100%|██████████| 7.13k/7.13k [00:00<00:00, 20.2kB/s]\n",
      "Downloading [vocab.json]: 100%|██████████| 2.65M/2.65M [00:03<00:00, 862kB/s] \n"
     ]
    },
    {
     "data": {
      "text/plain": [
       "'./cache/qwen/Qwen2___5-0___5B-Instruct'"
      ]
     },
     "execution_count": 1,
     "metadata": {},
     "output_type": "execute_result"
    },
    {
     "ename": "",
     "evalue": "",
     "output_type": "error",
     "traceback": [
      "\u001b[1;31mThe Kernel crashed while executing code in the current cell or a previous cell. \n",
      "\u001b[1;31mPlease review the code in the cell(s) to identify a possible cause of the failure. \n",
      "\u001b[1;31mClick <a href='https://aka.ms/vscodeJupyterKernelCrash'>here</a> for more info. \n",
      "\u001b[1;31mView Jupyter <a href='command:jupyter.viewOutput'>log</a> for further details."
     ]
    }
   ],
   "source": [
    "from modelscope.hub.snapshot_download import snapshot_download\n",
    "\n",
    "snapshot_download(\"qwen/Qwen2.5-0.5B-Instruct\",cache_dir=\"./cache\")"
   ]
  }
 ],
 "metadata": {
  "kernelspec": {
   "display_name": "py310",
   "language": "python",
   "name": "python3"
  },
  "language_info": {
   "codemirror_mode": {
    "name": "ipython",
    "version": 3
   },
   "file_extension": ".py",
   "mimetype": "text/x-python",
   "name": "python",
   "nbconvert_exporter": "python",
   "pygments_lexer": "ipython3",
   "version": "3.10.14"
  }
 },
 "nbformat": 4,
 "nbformat_minor": 2
}
